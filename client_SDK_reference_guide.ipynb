{
 "cells": [
  {
   "cell_type": "markdown",
   "metadata": {},
   "source": [
    "# Volur Client SDK Reference Guide\n",
    "\n",
    "---\n",
    "\n",
    "## Content\n",
    "- [Installation](#installation)\n",
    "- [Configuration](#configuration)\n",
    "    - [VolurClient](#volurclient)\n",
    "    - [Authentication](#authentication)\n",
    "- [Data structures](#data-structures)\n",
    "    - [Column](#column)\n",
    "    - [QuanityColumn](#quantitycolumn)\n",
    "    - [CharacteristicColumn](#characteristiccolumn)\n",
    "    - [Value](#value)\n",
    "- [Sources](#sources)\n",
    "    - [MaterialsCSVFileSource](#materialscsvfilesource)\n",
    "- [Methods](#methods)\n",
    "    - [upload_materials](#upload_materials)"
   ]
  },
  {
   "cell_type": "markdown",
   "metadata": {},
   "source": [
    "## Installation\n",
    "todo"
   ]
  },
  {
   "cell_type": "markdown",
   "metadata": {},
   "source": [
    "## Configuration\n",
    "\n",
    "### VolurClient\n",
    "\n",
    "```python\n",
    "class VolurClient:\n",
    "        self,\n",
    "        auth_token: str | None = None,\n",
    "```\n",
    "Provides methods for uploading data to Volur.\n",
    "\n",
    "**Parameters**\\\n",
    "`auth_token`&nbsp;&nbsp;&nbsp;&nbsp;Authentication token.\n",
    "\n",
    "**Exceptions**\\\n",
    "`ValidationError`&nbsp;&nbsp;&nbsp;&nbsp;Raised if no token has been set in the `VOLUR_AUTH_TOKEN` variable or passed through the `auth_token` parameter. \n",
    "\n",
    "### Authentication\n",
    "You can either create a `.env` file and set the `VOLUR_AUTH_TOKEN` variable to \n",
    "your access token or pass the token directly to the client using the\n",
    "`auth_token` parameter.\n",
    "\n",
    "Running the cell below will yield a `ValidationError` as explained above. \n",
    "Setting the `VOLUR_AUTH_TOKEN` in your `.env` file or passing your auth token\n",
    "in the `auth_token` parameter in the second line of code should successfully\n",
    "initialize the client."
   ]
  },
  {
   "cell_type": "code",
   "execution_count": null,
   "metadata": {},
   "outputs": [],
   "source": [
    "from volur.sdk.client import VolurClient\n",
    "\n",
    "# Initialize the client (with auth token set in .env)\n",
    "# Will throw an error if no variable is set in your .env file\n",
    "client = VolurClient()\n",
    "# or by setting the token directly\n",
    "client = VolurClient(auth_token=\"your_auth_token\")"
   ]
  },
  {
   "cell_type": "markdown",
   "metadata": {},
   "source": [
    "## Data structures\n",
    "\n",
    "Several of the methods and classes in the SDK utilize different data structures \n",
    "either on top or as input. These data structures are defined in the table under,\n",
    "and more details can be found in the link to each separate structure.\n",
    "\n",
    "| Source | Description |\n",
    "| ----------- | ----------- |\n",
    "| [Column](#column) | Class which defines a simple column. |\n",
    "| [QuantityColumn](#quantitycolumn) | Class which defines a column with a value that represents a quantity. |\n",
    "| [CharacteristicColumn](#characteristiccolumn) | Class which defines a column with a value that represents a given characteristic. |\n",
    "| [Value](#value) | Class which defines the value of a characteristic given a specific data type. |"
   ]
  },
  {
   "cell_type": "markdown",
   "metadata": {},
   "source": [
    "### Column\n",
    "\n",
    "```python\n",
    "class Column(BaseModel):\n",
    "    column_name: str\n",
    "```\n",
    "\n",
    "Class which defines a simple column.\n",
    "\n",
    "**Fields**\\\n",
    "`column_name`&nbsp;&nbsp;&nbsp;&nbsp;The name of the column\n"
   ]
  },
  {
   "cell_type": "markdown",
   "metadata": {},
   "source": [
    "### QuantityColumn\n",
    "\n",
    "```python\n",
    "class QuantityColumn(Column):\n",
    "    unit: Literal[\n",
    "        \"kilogram\",\n",
    "        \"pound\",\n",
    "        \"box\",\n",
    "        \"piece\",\n",
    "    ]\n",
    "```\n",
    "\n",
    "Class which defines a column with a value that represents a quantity.\n",
    "\n",
    "**Fields**\\\n",
    "`unit`&nbsp;&nbsp;&nbsp;&nbsp;The unit the quanity is given in. Can be either kilogram, pound, box, or piece."
   ]
  },
  {
   "cell_type": "markdown",
   "metadata": {},
   "source": [
    "### CharacteristicColumn\n",
    "\n",
    "```python\n",
    "class CharacteristicColumn(Column):\n",
    "    characteristic_name: str\n",
    "    data_type: Literal[\n",
    "        \"string\",\n",
    "        \"bool\",\n",
    "        \"integer\",\n",
    "        \"float\",\n",
    "        \"datetime\",\n",
    "        \"date\",\n",
    "    ]\n",
    "```\n",
    "\n",
    "Class which defines a column with a value that represents a given characteristic.\n",
    "\n",
    "**Fields**\\\n",
    "`characteristic_name`&nbsp;&nbsp;&nbsp;&nbsp;The unit the quanity is given in. Can be either kilogram, pound, box, or piece.\\\n",
    "`data_type`&nbsp;&nbsp;&nbsp;&nbsp;The data type the characteristic is given in. Can be either string, bool, integer, float, datetime, or date."
   ]
  },
  {
   "cell_type": "markdown",
   "metadata": {},
   "source": [
    "### Value\n",
    "\n",
    "```python\n",
    "class Value(BaseModel):\n",
    "    value_string: str | None\n",
    "    value_integer: int | None\n",
    "    value_float: float | None\n",
    "    value_bool: bool | None\n",
    "```\n",
    "\n",
    "Class which defines the value of a characteristic given a specific data type.\n",
    "\n",
    "**Fields**\\\n",
    "`value_string`&nbsp;&nbsp;&nbsp;&nbsp;The string value of the characteristic.\\\n",
    "`value_integer`&nbsp;&nbsp;&nbsp;&nbsp;The int value of the characteristic.\\\n",
    "`value_float`&nbsp;&nbsp;&nbsp;&nbsp;The float value of the characteristic.\\\n",
    "`value_bool`&nbsp;&nbsp;&nbsp;&nbsp;The bool value of the characteristic."
   ]
  },
  {
   "cell_type": "markdown",
   "metadata": {},
   "source": [
    "## Sources\n",
    "\n",
    "When uploading data, each method expects a data-specific source object as input.\n",
    "These objects allow you to specify a mapping from your data to the format\n",
    "in which the API expects to receive it, in addition to specifying which data \n",
    "type each column consists of.\n",
    "\n",
    "| Source | Description |\n",
    "| ----------- | ----------- |\n",
    "| [MaterialsCSVFileSource](#MaterialsCSVFileSource) | Class which defines a schema when uploading materials data with a CSV file as source. |"
   ]
  },
  {
   "cell_type": "markdown",
   "metadata": {},
   "source": [
    "### MaterialsCSVFileSource\n",
    "\n",
    "```python\n",
    "class MaterialsCSVFileSource(\n",
    "        path: str,\n",
    "        material_id_column: Column,\n",
    "        plant_id_column: Column,\n",
    "        quantity_column: QuantityColumn,\n",
    "        characteristics_columns: CharacteristicColumn[],\n",
    "    )\n",
    "```\n",
    "\n",
    "Here will see an example of how to upload data which is in a CSV file. \n",
    "source.\n",
    "\n",
    "**Parameters**\\\n",
    "`path`&nbsp;&nbsp;&nbsp;&nbsp;Path to CSV file with materials data.\\\n",
    "`material_id_column`&nbsp;&nbsp;&nbsp;&nbsp;The column name used for getting the material identifier in the Material entity.\\\n",
    "`plant_id_column`&nbsp;&nbsp;&nbsp;&nbsp;The column name used for getting the plant identifier in the Material entity.\\\n",
    "`quantity_column`&nbsp;&nbsp;&nbsp;&nbsp;The column name used for getting the quantity in the Material entity.\\\n",
    "`characteristics_columns`&nbsp;&nbsp;&nbsp;&nbsp;The column names used for getting the material characteristics in the Material entity.\n",
    "\n",
    "**Exceptions**\\\n",
    "`ValueError`&nbsp;&nbsp;&nbsp;&nbsp;This error is raised when there is an error pertaining to a value. The correlating output should explain what is the source of the error, such as a value missing, an unknown type being passed, columns or paths not existing, and more."
   ]
  },
  {
   "cell_type": "markdown",
   "metadata": {},
   "source": [
    "### MaterialsCSVFileSource example"
   ]
  },
  {
   "cell_type": "code",
   "execution_count": null,
   "metadata": {},
   "outputs": [],
   "source": [
    "from volur.sdk.sources.csv import (\n",
    "    CharacteristicColumn,\n",
    "    Column,\n",
    "    MaterialsCSVFileSource,\n",
    "    QuantityColumn,\n",
    ")\n",
    "\n",
    "# Define a source for materials, with a single characteristic\n",
    "source = MaterialsCSVFileSource(\n",
    "    path=\"./data/materials.csv\",\n",
    "    material_id_column=Column(column_name=\"id\"),\n",
    "    plant_id_column=Column(column_name=\"plant\"),\n",
    "    quantity_column=QuantityColumn(column_name=\"quantity\", unit=\"kilogram\"),\n",
    "    characteristics_columns=[\n",
    "        CharacteristicColumn(\n",
    "            column_name=\"char_value\",\n",
    "            characteristic_name=\"char_value\",\n",
    "            data_type=\"integer\",\n",
    "        )\n",
    "    ],\n",
    ")"
   ]
  },
  {
   "cell_type": "markdown",
   "metadata": {},
   "source": [
    "## Methods\n",
    "\n",
    "| Method | Description |\n",
    "| ----------- | ----------- |\n",
    "| [upload_materials](#upload_materials) | Method for uploading materials data. |"
   ]
  },
  {
   "cell_type": "markdown",
   "metadata": {},
   "source": [
    "### upload_materials\n",
    "\n",
    "```python\n",
    "def upload_materials(\n",
    "        self,\n",
    "        source: MaterialSource\n",
    "    )\n",
    "```\n",
    "\n",
    "Method for uploading materials data.\n",
    "\n",
    "**Parameters**\\\n",
    "`source`&nbsp;&nbsp;&nbsp;&nbsp;The source of the data.\n",
    "\n",
    "**Returns**\\\n",
    "A dictionary with a status and responses. The status will inform about how many\n",
    "materials were uploaded, or if an error occurred and no materials were uploaded.\n",
    "The response element will contain the response from the server. "
   ]
  },
  {
   "cell_type": "markdown",
   "metadata": {},
   "source": [
    "### upload_materials example"
   ]
  },
  {
   "cell_type": "code",
   "execution_count": null,
   "metadata": {},
   "outputs": [],
   "source": [
    "# Using the MaterialsCSVFileSource defined above, upload the materials to the\n",
    "# Volur platform.\n",
    "client.upload_materials(source)"
   ]
  }
 ],
 "metadata": {
  "kernelspec": {
   "display_name": "Python 3 (ipykernel)",
   "language": "python",
   "name": "python3"
  },
  "language_info": {
   "codemirror_mode": {
    "name": "ipython",
    "version": 3
   },
   "file_extension": ".py",
   "mimetype": "text/x-python",
   "name": "python",
   "nbconvert_exporter": "python",
   "pygments_lexer": "ipython3",
   "version": "3.11.7"
  }
 },
 "nbformat": 4,
 "nbformat_minor": 4
}
